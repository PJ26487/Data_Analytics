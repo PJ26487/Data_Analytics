{
  "cells": [
    {
      "cell_type": "markdown",
      "metadata": {
        "id": "view-in-github",
        "colab_type": "text"
      },
      "source": [
        "<a href=\"https://colab.research.google.com/github/PJ26487/Data_Analytics/blob/main/HomeAdore.ipynb\" target=\"_parent\"><img src=\"https://colab.research.google.com/assets/colab-badge.svg\" alt=\"Open In Colab\"/></a>"
      ]
    },
    {
      "cell_type": "code",
      "execution_count": null,
      "metadata": {
        "id": "JDiDNG1uhS22"
      },
      "outputs": [],
      "source": [
        "#importing the libraries\n",
        "#scraping data from competitors and websites \n",
        "import bs4\n",
        "from bs4 import BeautifulSoup\n",
        "import requests\n",
        "import pandas as pd\n",
        "\n",
        "import spacy \n",
        "nlp= spacy.load(\"en_core_web_sm\")\n",
        "from spacy import displacy\n",
        "headers ='Mozilla/5.0 (Windows NT 10.0; Win64; x64) AppleWebKit/537.36 (KHTML, like Gecko) Chrome/96.0.4664.110 Safari/537.36'\n",
        "\n",
        "#sending the df over to google sheets \n",
        "#from google.colab import auth\n",
        "#auth.authenticate_user()\n",
        "#import gspread\n",
        "#from oauth2client.client import GoogleCredentials as GC\n",
        "#gc = gspread.authorize(GC.get_application_default())\n",
        "\n",
        "# create, and save df\n",
        "#from gspread_dataframe import set_with_dataframe"
      ]
    },
    {
      "cell_type": "markdown",
      "source": [
        "1. Pottery barn can be used as a website for keeping on point with the selling trends of the month \n",
        "2. Dynamic website scraping will be a big pain in the ass but might be necessary\n",
        "3. We might need to train spacy on how to identify different themes from the websites\n",
        "4. to show promise and results collect a lot of data and try to determine insights from those even if it works by tokenising and counting the words.\n",
        "5. Cannot seem to scrape any of our competitors websites, they are just too complicated to scrape effectively. \n",
        "\n",
        "\n"
      ],
      "metadata": {
        "id": "xBDBkGRRhnET"
      }
    },
    {
      "cell_type": "code",
      "execution_count": null,
      "metadata": {
        "id": "FNY7XtY3hq-k"
      },
      "outputs": [],
      "source": [
        "#scraping data from homeadore \n",
        "#checking the element on the webiste and importing all the classes\n",
        "\n",
        "i = 0 \n",
        "\n",
        "title_list=[]\n",
        "date_list=[]\n",
        "desc_list=[]\n",
        "\n",
        "while i < 100:\n",
        "  url= f'https://homeadore.com/page/{i}/'\n",
        "  r= requests.get(url,headers)\n",
        "\n",
        "  #extracting the html code from the website\n",
        "  soup= BeautifulSoup(r.content,'html.parser')\n",
        "\n",
        "  #after extracting the soup we shall now get the dates from the dates tag\n",
        "\n",
        "  divs = soup.find_all('article', class_='post')\n",
        "\n",
        "  for item in divs: \n",
        "    title= item.find('a').text\n",
        "    title_list.append(title)\n",
        "    date = item.find('time').text\n",
        "    date_list.append(date)\n",
        "    desc = item.find('p').text\n",
        "    desc_list.append(desc)\n",
        "  \n",
        "  #saving all the lists in pandas for conducting the final assesment\n",
        "  df_homeadore = pd.DataFrame(list(zip(title_list,date_list,desc_list)), columns=['title','date posted','description'])\n",
        "  i=i+1\n",
        "\n",
        "print(\"the homeadore data is collected\")\n",
        "\n",
        "#converting the df to a string\n",
        "\n",
        "homeadore_str= df_homeadore.to_string()\n",
        "print(len(homeadore_str)) #to check the initial number of tokens in the string\n",
        "\n",
        "#removing all punctuations\n",
        "punctuations = '''!()-[]\\{};:'\"/<>./?@#$%^&*_~]''' #list of all the punctuations we remove from the string\n",
        "homeadore_str_mt = \"\"\n",
        "for char in homeadore_str:\n",
        "    if char not in punctuations:\n",
        "        tweets_str_mt = tweets_str_mt + char\n",
        "\n",
        "print(len(homeadore_str_mt))\n",
        "\n",
        "#removing all stopwords\n",
        "stop_str= \"rt RT \\n a about above across after afterwards again against all almost alone along already also although always am among amongst amoungst amount an and another any anyhow anyone anything anyway anywhere are around as at back be became because become becomes becoming been before beforehand behind being below beside besides between beyond bill both bottom but by call can cannot cant co computer con could couldnt cry de describe detail do done down due during each eg eight either eleven else elsewhere empty enough etc even ever every everyone everything everywhere except few fifteen fify fill find fire first five for former formerly forty found four from front full further get give go had has hasnt have he hence her here hereafter hereby herein hereupon hers herse him himse his how however hundred i ie if in inc indeed interest into is it its itse keep last latter latterly least less ltd made many may me meanwhile might mill mine more moreover most mostly move much must my myse name namely neither never nevertheless next nine no nobody none noone nor not nothing now nowhere of off often on once one only onto or other others otherwise our ours ourselves out over own part per perhaps please put rather re same see seem seemed seeming seems serious several she should show side since sincere six sixty so some somehow someone something sometime sometimes somewhere still such system take ten than that the their them themselves then thence there thereafter thereby therefore therein thereupon these they thick thin third this those though three through throughout thru thus to together too top toward towards twelve twenty two un under until up upon us very via was we well were what whatever when whence whenever where whereafter whereas whereby wherein whereupon wherever whether which while whither who whoever whole whom whose why will with within without would yet you your yours yourself yourselves\"\n",
        "homeadore_str_stop= \" \"\n",
        "for char in homeadore_str_mt:\n",
        "  if char not in stop_str:\n",
        "    homeadore_str_stop= homeadore_str_stop+ char\n",
        "\n",
        "print(len(homeadore_str_stop))\n",
        "\n",
        "doc = nlp(homeadore_str_stop)\n",
        "print(len(doc)) #to check the succesful tokenisation of the string from homeadore\n",
        "\n",
        "print(len(doc))\n"
      ]
    },
    {
      "cell_type": "markdown",
      "source": [
        ""
      ],
      "metadata": {
        "id": "1JRn-u6deWQf"
      }
    },
    {
      "cell_type": "code",
      "source": [
        "#sending the df over to google sheets \n",
        "from google.colab import auth\n",
        "auth.authenticate_user()\n",
        "import gspread\n",
        "from oauth2client.client import GoogleCredentials as GC\n",
        "gc = gspread.authorize(GC.get_application_default())\n",
        "\n",
        "# create, and save df\n",
        "from gspread_dataframe import set_with_dataframe\n",
        "title = 'Pillow_Links'\n",
        "gc.create(title)  # if not exist\n",
        "sheet = gc.open(title).sheet1\n",
        "set_with_dataframe(sheet,links_df) \n",
        "# include_index=False, include_column_header=True, resize=False"
      ],
      "metadata": {
        "id": "3LagYLpTZz2K"
      },
      "execution_count": null,
      "outputs": []
    },
    {
      "cell_type": "code",
      "source": [
        "#scrape for target\n",
        "url = 'https://www.amazon.in/s?k=sofa&i=kitchen&crid=UPDKYSRFHLM1&sprefix=so%2Ckitchen%2C740&ref=nb_sb_noss_2'\n",
        "#soup= BeautifulSoup(r.content,'html.parser')\n",
        "#print(soup)\n",
        "#print(title)\n",
        "\n",
        "import urllib3\n",
        "http_pool = urllib3.connection_from_url(url)\n",
        "r = http_pool.urlopen('GET',url)\n",
        "#print (r.data)\n",
        "\n",
        "soup = BeautifulSoup(r.data,'html.parser')\n",
        "\n",
        "#print(soup)\n",
        "\n",
        "divs = soup.find_all('div',class_='sg-col-inner')\n",
        "#print(divs)\n",
        "title_list =[]\n",
        "for item in divs:\n",
        "  title = soup.find('h2').text\n",
        "  title_list.append(title)\n",
        "\n",
        "print(title_list)\n"
      ],
      "metadata": {
        "colab": {
          "base_uri": "https://localhost:8080/"
        },
        "id": "T6W75cN_IBPQ",
        "outputId": "970aad28-deda-49db-f011-abf72e9df641"
      },
      "execution_count": null,
      "outputs": [
        {
          "output_type": "stream",
          "name": "stderr",
          "text": [
            "/usr/local/lib/python3.7/dist-packages/urllib3/connectionpool.py:847: InsecureRequestWarning: Unverified HTTPS request is being made. Adding certificate verification is strongly advised. See: https://urllib3.readthedocs.io/en/latest/advanced-usage.html#ssl-warnings\n",
            "  InsecureRequestWarning)\n"
          ]
        },
        {
          "output_type": "stream",
          "name": "stdout",
          "text": [
            "['Amazon Brand - Solimo Alen 5 Seater Fabric LHS L Shape Sofa Set (Blue)  ', 'Amazon Brand - Solimo Alen 5 Seater Fabric LHS L Shape Sofa Set (Blue)  ', 'Amazon Brand - Solimo Alen 5 Seater Fabric LHS L Shape Sofa Set (Blue)  ', 'Amazon Brand - Solimo Alen 5 Seater Fabric LHS L Shape Sofa Set (Blue)  ', 'Amazon Brand - Solimo Alen 5 Seater Fabric LHS L Shape Sofa Set (Blue)  ', 'Amazon Brand - Solimo Alen 5 Seater Fabric LHS L Shape Sofa Set (Blue)  ', 'Amazon Brand - Solimo Alen 5 Seater Fabric LHS L Shape Sofa Set (Blue)  ', 'Amazon Brand - Solimo Alen 5 Seater Fabric LHS L Shape Sofa Set (Blue)  ', 'Amazon Brand - Solimo Alen 5 Seater Fabric LHS L Shape Sofa Set (Blue)  ', 'Amazon Brand - Solimo Alen 5 Seater Fabric LHS L Shape Sofa Set (Blue)  ', 'Amazon Brand - Solimo Alen 5 Seater Fabric LHS L Shape Sofa Set (Blue)  ', 'Amazon Brand - Solimo Alen 5 Seater Fabric LHS L Shape Sofa Set (Blue)  ', 'Amazon Brand - Solimo Alen 5 Seater Fabric LHS L Shape Sofa Set (Blue)  ', 'Amazon Brand - Solimo Alen 5 Seater Fabric LHS L Shape Sofa Set (Blue)  ', 'Amazon Brand - Solimo Alen 5 Seater Fabric LHS L Shape Sofa Set (Blue)  ', 'Amazon Brand - Solimo Alen 5 Seater Fabric LHS L Shape Sofa Set (Blue)  ', 'Amazon Brand - Solimo Alen 5 Seater Fabric LHS L Shape Sofa Set (Blue)  ', 'Amazon Brand - Solimo Alen 5 Seater Fabric LHS L Shape Sofa Set (Blue)  ', 'Amazon Brand - Solimo Alen 5 Seater Fabric LHS L Shape Sofa Set (Blue)  ', 'Amazon Brand - Solimo Alen 5 Seater Fabric LHS L Shape Sofa Set (Blue)  ', 'Amazon Brand - Solimo Alen 5 Seater Fabric LHS L Shape Sofa Set (Blue)  ', 'Amazon Brand - Solimo Alen 5 Seater Fabric LHS L Shape Sofa Set (Blue)  ', 'Amazon Brand - Solimo Alen 5 Seater Fabric LHS L Shape Sofa Set (Blue)  ', 'Amazon Brand - Solimo Alen 5 Seater Fabric LHS L Shape Sofa Set (Blue)  ', 'Amazon Brand - Solimo Alen 5 Seater Fabric LHS L Shape Sofa Set (Blue)  ', 'Amazon Brand - Solimo Alen 5 Seater Fabric LHS L Shape Sofa Set (Blue)  ', 'Amazon Brand - Solimo Alen 5 Seater Fabric LHS L Shape Sofa Set (Blue)  ', 'Amazon Brand - Solimo Alen 5 Seater Fabric LHS L Shape Sofa Set (Blue)  ', 'Amazon Brand - Solimo Alen 5 Seater Fabric LHS L Shape Sofa Set (Blue)  ', 'Amazon Brand - Solimo Alen 5 Seater Fabric LHS L Shape Sofa Set (Blue)  ', 'Amazon Brand - Solimo Alen 5 Seater Fabric LHS L Shape Sofa Set (Blue)  ', 'Amazon Brand - Solimo Alen 5 Seater Fabric LHS L Shape Sofa Set (Blue)  ', 'Amazon Brand - Solimo Alen 5 Seater Fabric LHS L Shape Sofa Set (Blue)  ', 'Amazon Brand - Solimo Alen 5 Seater Fabric LHS L Shape Sofa Set (Blue)  ', 'Amazon Brand - Solimo Alen 5 Seater Fabric LHS L Shape Sofa Set (Blue)  ', 'Amazon Brand - Solimo Alen 5 Seater Fabric LHS L Shape Sofa Set (Blue)  ', 'Amazon Brand - Solimo Alen 5 Seater Fabric LHS L Shape Sofa Set (Blue)  ', 'Amazon Brand - Solimo Alen 5 Seater Fabric LHS L Shape Sofa Set (Blue)  ', 'Amazon Brand - Solimo Alen 5 Seater Fabric LHS L Shape Sofa Set (Blue)  ', 'Amazon Brand - Solimo Alen 5 Seater Fabric LHS L Shape Sofa Set (Blue)  ', 'Amazon Brand - Solimo Alen 5 Seater Fabric LHS L Shape Sofa Set (Blue)  ', 'Amazon Brand - Solimo Alen 5 Seater Fabric LHS L Shape Sofa Set (Blue)  ', 'Amazon Brand - Solimo Alen 5 Seater Fabric LHS L Shape Sofa Set (Blue)  ', 'Amazon Brand - Solimo Alen 5 Seater Fabric LHS L Shape Sofa Set (Blue)  ', 'Amazon Brand - Solimo Alen 5 Seater Fabric LHS L Shape Sofa Set (Blue)  ', 'Amazon Brand - Solimo Alen 5 Seater Fabric LHS L Shape Sofa Set (Blue)  ', 'Amazon Brand - Solimo Alen 5 Seater Fabric LHS L Shape Sofa Set (Blue)  ', 'Amazon Brand - Solimo Alen 5 Seater Fabric LHS L Shape Sofa Set (Blue)  ']\n"
          ]
        }
      ]
    }
  ],
  "metadata": {
    "colab": {
      "name": "HomeAdore.ipynb",
      "provenance": [],
      "authorship_tag": "ABX9TyMYS1RhNMoGlMsILw3Pz+Fr",
      "include_colab_link": true
    },
    "kernelspec": {
      "display_name": "Python 3",
      "name": "python3"
    },
    "language_info": {
      "name": "python"
    }
  },
  "nbformat": 4,
  "nbformat_minor": 0
}