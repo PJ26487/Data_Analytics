{
  "nbformat": 4,
  "nbformat_minor": 0,
  "metadata": {
    "colab": {
      "name": "Product_Analysis.ipynb",
      "provenance": [],
      "authorship_tag": "ABX9TyMmnbJOqkKzmbAJBN/yqLEu",
      "include_colab_link": true
    },
    "kernelspec": {
      "name": "python3",
      "display_name": "Python 3"
    },
    "language_info": {
      "name": "python"
    }
  },
  "cells": [
    {
      "cell_type": "markdown",
      "metadata": {
        "id": "view-in-github",
        "colab_type": "text"
      },
      "source": [
        "<a href=\"https://colab.research.google.com/github/PJ26487/Data_Analytics/blob/main/Product_Analysis.ipynb\" target=\"_parent\"><img src=\"https://colab.research.google.com/assets/colab-badge.svg\" alt=\"Open In Colab\"/></a>"
      ]
    },
    {
      "cell_type": "code",
      "execution_count": null,
      "metadata": {
        "id": "bbXzn4TnQ8LU"
      },
      "outputs": [],
      "source": [
        "#importing the libraries\n",
        "#scraping data from competitors and websites \n",
        "import bs4\n",
        "from bs4 import BeautifulSoup\n",
        "import requests\n",
        "import pandas as pd\n",
        "\n",
        "import spacy \n",
        "nlp= spacy.load(\"en_core_web_sm\")\n",
        "from spacy import displacy\n",
        "headers ='Mozilla/5.0 (Windows NT 10.0; Win64; x64) AppleWebKit/537.36 (KHTML, like Gecko) Chrome/96.0.4664.110 Safari/537.36'"
      ]
    },
    {
      "cell_type": "code",
      "source": [
        "#extracting a list of all the links at ashley store\n",
        "\n",
        "j = 0\n",
        "link_list = []\n",
        "name_list= []\n",
        "price_list = []\n",
        "while j<20:\n",
        "  page = j*16\n",
        "  url = f'https://www.ashleyfurniture.com/unxsearch/?q=pillow&start={page}&sz=16'\n",
        "  \n",
        "  r = requests.get(url,headers)\n",
        "  print(r)\n",
        "  soup= BeautifulSoup(r.content,'html.parser')\n",
        "  #print(soup)\n",
        "\n",
        "  #for finding the href tags and the links\n",
        "  a = soup.find_all('a',class_='name-link')\n",
        "  #print(a)\n",
        "  for item in a:\n",
        "    link = item.get('href')\n",
        "    link_list.append(link)\n",
        "    name= item.get('title')\n",
        "    name_list.append(name)\n",
        "  print(link_list)\n",
        "  print(name_list)\n",
        "\n",
        "  width_list =[]\n",
        "  depth_list =[]\n",
        "  height_list =[]\n",
        "  weight_list =[]\n",
        "\n",
        "  price_div = soup.find_all('div',class_='product-pricing ')\n",
        "  for price in price_div:\n",
        "    price_pro = price.find('div',class_='product-sales-price').text\n",
        "    price_list.append(price_pro[2:7])\n",
        "  print(price_list)\n",
        "  j=j+1\n",
        "\n",
        "for i in range(0,len(link_list)):\n",
        "  url1= link_list[i]\n",
        "  r= requests.get(url1,headers)\n",
        "  soup = BeautifulSoup(r.content,'html.parser')\n",
        "  divs = soup.find_all('div',class_='pdp-tabs js-pdp-tabs')\n",
        "  #print(divs)\n",
        "  for item in divs:\n",
        "    koko=item.find_all('li')\n",
        "    #print(koko)\n",
        "    for element in koko:\n",
        "      koko_text= element.text\n",
        "      #print(koko_text)\n",
        "      if 'Width' in koko_text:\n",
        "        width_list.append(koko_text[7:12])\n",
        "      elif 'Depth' in koko_text:\n",
        "        depth_list.append(koko_text[7:12])\n",
        "      elif 'Height' in koko_text:\n",
        "        height_list.append(koko_text[7:12])\n",
        "    weight= item.find('div',class_='detail-row').text\n",
        "    weight_list.append(weight[8:10])\n",
        "\n",
        "print(width_list)\n",
        "print(depth_list)\n",
        "print(height_list)\n",
        "print(weight_list)"
      ],
      "metadata": {
        "colab": {
          "base_uri": "https://localhost:8080/"
        },
        "id": "ZI1HzRRQRJrM",
        "outputId": "a9896384-3e11-429f-f843-53d5f3c68e09"
      },
      "execution_count": null,
      "outputs": [
        {
          "output_type": "stream",
          "name": "stdout",
          "text": [
            "<Response [200]>\n",
            "['https://www.ashleyfurniture.com/p/sensorpedic_sofloft_extra_firm_density_standard_pillow_2_pack/M60000452.html', 'https://www.ashleyfurniture.com/p/sensorpedic_sofloft_medium_density_standard_pillow_2_pack/M60000446.html', 'https://www.ashleyfurniture.com/p/sensorpedic_sofloft_firm_density_standard_pillow_2_pack/M60000449.html', 'https://www.ashleyfurniture.com/p/nourison_mina_victory_20_x_20_throw_pillow/A600009252.html', 'https://www.ashleyfurniture.com/p/jasmen_pillow/A1000838P.html', 'https://www.ashleyfurniture.com/p/ricker_pillow/A1000804P.html', 'https://www.ashleyfurniture.com/p/sensorpedic_luxury_extraordinaire_gusseted_gel-infused_memory_foam_oversized_bed_pillow/M60000476.html', 'https://www.ashleyfurniture.com/p/sensorpedic_coolmax_400_thread_count_cotton-rich_fiber_jumbo_bed_pillow_2_pack/M60000487.html', 'https://www.ashleyfurniture.com/p/cortnie_pillow/A1000953P.html', 'https://www.ashleyfurniture.com/p/bedgear_level_3.0_pillow/M60000262.html', 'https://www.ashleyfurniture.com/p/liviah_pillow/A1000540P.html', 'https://www.ashleyfurniture.com/p/evergrace_amor_waffle_chenille_knit_pillow/A600039711.html', 'https://www.ashleyfurniture.com/p/home_accents_jeweled_throw_pillow/A600019336.html', 'https://www.ashleyfurniture.com/p/nourison_nourison_luminescence_18_x_18_throw_pillow/A600015386.html', 'https://www.ashleyfurniture.com/p/evergrace_mabel_textured_washed_chenille_euro_pillow/A600039669.html', 'https://www.ashleyfurniture.com/p/modern_metallic_marble_pillow/A600001439.html']\n",
            "['Go to Product: SensorPEDIC® SofLOFT Extra Firm Density Standard Pillow 2-Pack', 'Go to Product: SensorPEDIC® SofLOFT Medium Density Standard Pillow 2-Pack', 'Go to Product: SensorPEDIC® SofLOFT Firm Density Standard Pillow 2-Pack', 'Go to Product: Nourison Mina Victory Throw Pillow', 'Go to Product: Jasmen Pillow', 'Go to Product: Ricker Pillow', 'Go to Product: SensorPEDIC® Luxury Extraordinaire Gusseted Gel-Infused Memory Foam Oversized Bed Pillow', 'Go to Product: SensorPEDIC® CoolMAX 400 Thread Count Cotton-Rich Fiber Jumbo Bed Pillow 2-Pack', 'Go to Product: Cortnie Pillow', 'Go to Product: BEDGEAR® Level 3.0 Pillow', 'Go to Product: Liviah Pillow', 'Go to Product: Evergrace Amor Waffle Chenille Knit Pillow', 'Go to Product: Home Accents Jeweled Throw Pillow', 'Go to Product: Nourison Nourison Luminescence 18\" X 18\" Throw Pillow', 'Go to Product: Evergrace Mabel Textured Washed Chenille Euro Pillow', 'Go to Product: Modern Metallic Marble Pillow']\n",
            "['29.99', '29.99', '28.99', '33.99', '49.99', '39.99', '38.99', '31.99', '49.99', '119.0', '49.99', '28.99', '60.99', '25.99', '27.99', '32.99']\n",
            "<Response [200]>\n",
            "['https://www.ashleyfurniture.com/p/sensorpedic_sofloft_extra_firm_density_standard_pillow_2_pack/M60000452.html', 'https://www.ashleyfurniture.com/p/sensorpedic_sofloft_medium_density_standard_pillow_2_pack/M60000446.html', 'https://www.ashleyfurniture.com/p/sensorpedic_sofloft_firm_density_standard_pillow_2_pack/M60000449.html', 'https://www.ashleyfurniture.com/p/nourison_mina_victory_20_x_20_throw_pillow/A600009252.html', 'https://www.ashleyfurniture.com/p/jasmen_pillow/A1000838P.html', 'https://www.ashleyfurniture.com/p/ricker_pillow/A1000804P.html', 'https://www.ashleyfurniture.com/p/sensorpedic_luxury_extraordinaire_gusseted_gel-infused_memory_foam_oversized_bed_pillow/M60000476.html', 'https://www.ashleyfurniture.com/p/sensorpedic_coolmax_400_thread_count_cotton-rich_fiber_jumbo_bed_pillow_2_pack/M60000487.html', 'https://www.ashleyfurniture.com/p/cortnie_pillow/A1000953P.html', 'https://www.ashleyfurniture.com/p/bedgear_level_3.0_pillow/M60000262.html', 'https://www.ashleyfurniture.com/p/liviah_pillow/A1000540P.html', 'https://www.ashleyfurniture.com/p/evergrace_amor_waffle_chenille_knit_pillow/A600039711.html', 'https://www.ashleyfurniture.com/p/home_accents_jeweled_throw_pillow/A600019336.html', 'https://www.ashleyfurniture.com/p/nourison_nourison_luminescence_18_x_18_throw_pillow/A600015386.html', 'https://www.ashleyfurniture.com/p/evergrace_mabel_textured_washed_chenille_euro_pillow/A600039669.html', 'https://www.ashleyfurniture.com/p/modern_metallic_marble_pillow/A600001439.html', 'https://www.ashleyfurniture.com/p/charisma_luxury_gusseted_gel-infused_oversized_memory_foam_pillow/M60000571.html', 'https://www.ashleyfurniture.com/p/landers_pillow/A1000479P.html', 'https://www.ashleyfurniture.com/p/i_love_pillow_contour_queen_pillow/M60000194.html', 'https://www.ashleyfurniture.com/p/i_love_pillow_pure_lux_pillow_2-pack/Q600005970.html', 'https://www.ashleyfurniture.com/p/henie_pillow/A1000978P.html', 'https://www.ashleyfurniture.com/p/linwood_pillow/A1000816P.html', 'https://www.ashleyfurniture.com/p/purple%C2%A0_harmony_pillow_standard_6.5/M60000633.html', 'https://www.ashleyfurniture.com/p/modern_metallic_leopard_pillow/A600001455.html', 'https://www.ashleyfurniture.com/p/modern_faux_fur_sequin_pillow/A600001432.html', 'https://www.ashleyfurniture.com/p/z123_pillow_series_total_solution_pillow/M82412P.html', 'https://www.ashleyfurniture.com/p/intelligent_design_azza_chenille_square_floor_pillow/A600030054.html', 'https://www.ashleyfurniture.com/p/creative_co-op_chevron_stonewashed_cotton_slub_tasseled_pillow/A600025025.html', 'https://www.ashleyfurniture.com/p/surya_dacia_global_pillow_cover/A600027839.html', 'https://www.ashleyfurniture.com/p/surya_pomtastic_pillow_cover/A600028083.html', 'https://www.ashleyfurniture.com/p/my_baby_sam_cloudy_pink_throw_pillow/B600000837.html', 'https://www.ashleyfurniture.com/p/tempur-pedic_tempur-adapt_cloud_cooling_-_standard/Q600010452.html']\n",
            "['Go to Product: SensorPEDIC® SofLOFT Extra Firm Density Standard Pillow 2-Pack', 'Go to Product: SensorPEDIC® SofLOFT Medium Density Standard Pillow 2-Pack', 'Go to Product: SensorPEDIC® SofLOFT Firm Density Standard Pillow 2-Pack', 'Go to Product: Nourison Mina Victory Throw Pillow', 'Go to Product: Jasmen Pillow', 'Go to Product: Ricker Pillow', 'Go to Product: SensorPEDIC® Luxury Extraordinaire Gusseted Gel-Infused Memory Foam Oversized Bed Pillow', 'Go to Product: SensorPEDIC® CoolMAX 400 Thread Count Cotton-Rich Fiber Jumbo Bed Pillow 2-Pack', 'Go to Product: Cortnie Pillow', 'Go to Product: BEDGEAR® Level 3.0 Pillow', 'Go to Product: Liviah Pillow', 'Go to Product: Evergrace Amor Waffle Chenille Knit Pillow', 'Go to Product: Home Accents Jeweled Throw Pillow', 'Go to Product: Nourison Nourison Luminescence 18\" X 18\" Throw Pillow', 'Go to Product: Evergrace Mabel Textured Washed Chenille Euro Pillow', 'Go to Product: Modern Metallic Marble Pillow', 'Go to Product: Charisma® Luxury Gusseted Gel-Infused Oversized Memory Foam Pillow', 'Go to Product: Landers Pillow', 'Go to Product: I Love Pillow Contour Queen Pillow', 'Go to Product: I Love Pillow Pure Lux Pillow 2-Pack', 'Go to Product: Henie Pillow', 'Go to Product: Linwood Pillow', 'Go to Product: Purple®\\xa0 Harmony Pillow Standard 6.5\"', 'Go to Product: Modern Metallic Leopard Pillow', 'Go to Product: Modern Faux Fur Sequin Pillow', 'Go to Product: Z123 Pillow Series Total Solution Pillow', 'Go to Product: Azza Chenille Square Floor Pillow', 'Go to Product: Creative Co-Op Chevron Stonewashed Cotton Slub Tasseled Pillow', 'Go to Product: Surya Dacia Global Pillow Cover', 'Go to Product: Surya Pomtastic Pillow Cover', 'Go to Product: My Baby Sam Cloudy Pink Throw Pillow', 'Go to Product: Tempur-Pedic TEMPUR-Adapt® Cloud + Cooling - Standard']\n",
            "['29.99', '29.99', '28.99', '33.99', '49.99', '39.99', '38.99', '31.99', '49.99', '119.0', '49.99', '28.99', '60.99', '25.99', '27.99', '32.99', '41.99', '39.99', '45.99', '46.99', '49.99', '39.99', '179.0', '43.99', '29.99', '69.99', '38.99', '41.99', '69.99', '49.99', '24.99', '375.0']\n",
            "<Response [200]>\n",
            "['https://www.ashleyfurniture.com/p/sensorpedic_sofloft_extra_firm_density_standard_pillow_2_pack/M60000452.html', 'https://www.ashleyfurniture.com/p/sensorpedic_sofloft_medium_density_standard_pillow_2_pack/M60000446.html', 'https://www.ashleyfurniture.com/p/sensorpedic_sofloft_firm_density_standard_pillow_2_pack/M60000449.html', 'https://www.ashleyfurniture.com/p/nourison_mina_victory_20_x_20_throw_pillow/A600009252.html', 'https://www.ashleyfurniture.com/p/jasmen_pillow/A1000838P.html', 'https://www.ashleyfurniture.com/p/ricker_pillow/A1000804P.html', 'https://www.ashleyfurniture.com/p/sensorpedic_luxury_extraordinaire_gusseted_gel-infused_memory_foam_oversized_bed_pillow/M60000476.html', 'https://www.ashleyfurniture.com/p/sensorpedic_coolmax_400_thread_count_cotton-rich_fiber_jumbo_bed_pillow_2_pack/M60000487.html', 'https://www.ashleyfurniture.com/p/cortnie_pillow/A1000953P.html', 'https://www.ashleyfurniture.com/p/bedgear_level_3.0_pillow/M60000262.html', 'https://www.ashleyfurniture.com/p/liviah_pillow/A1000540P.html', 'https://www.ashleyfurniture.com/p/evergrace_amor_waffle_chenille_knit_pillow/A600039711.html', 'https://www.ashleyfurniture.com/p/home_accents_jeweled_throw_pillow/A600019336.html', 'https://www.ashleyfurniture.com/p/nourison_nourison_luminescence_18_x_18_throw_pillow/A600015386.html', 'https://www.ashleyfurniture.com/p/evergrace_mabel_textured_washed_chenille_euro_pillow/A600039669.html', 'https://www.ashleyfurniture.com/p/modern_metallic_marble_pillow/A600001439.html', 'https://www.ashleyfurniture.com/p/charisma_luxury_gusseted_gel-infused_oversized_memory_foam_pillow/M60000571.html', 'https://www.ashleyfurniture.com/p/landers_pillow/A1000479P.html', 'https://www.ashleyfurniture.com/p/i_love_pillow_contour_queen_pillow/M60000194.html', 'https://www.ashleyfurniture.com/p/i_love_pillow_pure_lux_pillow_2-pack/Q600005970.html', 'https://www.ashleyfurniture.com/p/henie_pillow/A1000978P.html', 'https://www.ashleyfurniture.com/p/linwood_pillow/A1000816P.html', 'https://www.ashleyfurniture.com/p/purple%C2%A0_harmony_pillow_standard_6.5/M60000633.html', 'https://www.ashleyfurniture.com/p/modern_metallic_leopard_pillow/A600001455.html', 'https://www.ashleyfurniture.com/p/modern_faux_fur_sequin_pillow/A600001432.html', 'https://www.ashleyfurniture.com/p/z123_pillow_series_total_solution_pillow/M82412P.html', 'https://www.ashleyfurniture.com/p/intelligent_design_azza_chenille_square_floor_pillow/A600030054.html', 'https://www.ashleyfurniture.com/p/creative_co-op_chevron_stonewashed_cotton_slub_tasseled_pillow/A600025025.html', 'https://www.ashleyfurniture.com/p/surya_dacia_global_pillow_cover/A600027839.html', 'https://www.ashleyfurniture.com/p/surya_pomtastic_pillow_cover/A600028083.html', 'https://www.ashleyfurniture.com/p/my_baby_sam_cloudy_pink_throw_pillow/B600000837.html', 'https://www.ashleyfurniture.com/p/tempur-pedic_tempur-adapt_cloud_cooling_-_standard/Q600010452.html', 'https://www.ashleyfurniture.com/p/sensorpedic_conforming_memory_foam_any_position_bolster_pillow/Q600005951.html', 'https://www.ashleyfurniture.com/p/i_love_pillow_out_cold_side_sleeper_queen_pillow/M60000190.html', 'https://www.ashleyfurniture.com/p/i_love_pillow_medium_queen_rayon_from_bamboo_pillow/Q600005045.html', 'https://www.ashleyfurniture.com/p/nourison_mina_victory_shag_beige_yarn_shimmer_shag_20_x_20_throw_pillow/A600015447.html', 'https://www.ashleyfurniture.com/p/cool-tech_black_advanced_medium_profile_pillow/M60000028.html', 'https://www.ashleyfurniture.com/p/i_love_pillow_cumulus_queen_pillow_2-pack/M60000193.html', 'https://www.ashleyfurniture.com/p/calisa_pillow/A1000841P.html', 'https://www.ashleyfurniture.com/p/surya_coachella_throw_pillow/A600003629.html', 'https://www.ashleyfurniture.com/p/modern_faux_angora_rabbit_fur_pillow/A600001424.html', 'https://www.ashleyfurniture.com/p/j._queen_new_york_crestview_neckroll_pillow/Q600003029.html', 'https://www.ashleyfurniture.com/p/surya_coachella_throw_pillow/A600003627.html', 'https://www.ashleyfurniture.com/p/charisma_gel-infused_memory_foam_cluster_and_gel_fiber_standard_bed_pillow_2_pack/M60000560.html', 'https://www.ashleyfurniture.com/p/mr._kate_neely_futon_with_bolster_pillows/U600001686.html', 'https://www.ashleyfurniture.com/p/ikidz_blue_twin_mattress_and_pillow/M65811.html', 'https://www.ashleyfurniture.com/p/intelligent_design_edelia_chenille_lounge_floor_pillow/A600030060.html', 'https://www.ashleyfurniture.com/p/ikidz_pink_twin_mattress_and_pillow/M65911.html']\n",
            "['Go to Product: SensorPEDIC® SofLOFT Extra Firm Density Standard Pillow 2-Pack', 'Go to Product: SensorPEDIC® SofLOFT Medium Density Standard Pillow 2-Pack', 'Go to Product: SensorPEDIC® SofLOFT Firm Density Standard Pillow 2-Pack', 'Go to Product: Nourison Mina Victory Throw Pillow', 'Go to Product: Jasmen Pillow', 'Go to Product: Ricker Pillow', 'Go to Product: SensorPEDIC® Luxury Extraordinaire Gusseted Gel-Infused Memory Foam Oversized Bed Pillow', 'Go to Product: SensorPEDIC® CoolMAX 400 Thread Count Cotton-Rich Fiber Jumbo Bed Pillow 2-Pack', 'Go to Product: Cortnie Pillow', 'Go to Product: BEDGEAR® Level 3.0 Pillow', 'Go to Product: Liviah Pillow', 'Go to Product: Evergrace Amor Waffle Chenille Knit Pillow', 'Go to Product: Home Accents Jeweled Throw Pillow', 'Go to Product: Nourison Nourison Luminescence 18\" X 18\" Throw Pillow', 'Go to Product: Evergrace Mabel Textured Washed Chenille Euro Pillow', 'Go to Product: Modern Metallic Marble Pillow', 'Go to Product: Charisma® Luxury Gusseted Gel-Infused Oversized Memory Foam Pillow', 'Go to Product: Landers Pillow', 'Go to Product: I Love Pillow Contour Queen Pillow', 'Go to Product: I Love Pillow Pure Lux Pillow 2-Pack', 'Go to Product: Henie Pillow', 'Go to Product: Linwood Pillow', 'Go to Product: Purple®\\xa0 Harmony Pillow Standard 6.5\"', 'Go to Product: Modern Metallic Leopard Pillow', 'Go to Product: Modern Faux Fur Sequin Pillow', 'Go to Product: Z123 Pillow Series Total Solution Pillow', 'Go to Product: Azza Chenille Square Floor Pillow', 'Go to Product: Creative Co-Op Chevron Stonewashed Cotton Slub Tasseled Pillow', 'Go to Product: Surya Dacia Global Pillow Cover', 'Go to Product: Surya Pomtastic Pillow Cover', 'Go to Product: My Baby Sam Cloudy Pink Throw Pillow', 'Go to Product: Tempur-Pedic TEMPUR-Adapt® Cloud + Cooling - Standard', 'Go to Product: SensorPEDIC® Conforming Memory Foam Any Position Bolster Pillow', 'Go to Product: I Love Pillow Out Cold Side Sleeper Queen Pillow', 'Go to Product: I Love Pillow Medium Queen Rayon From Bamboo Pillow', 'Go to Product: Nourison Mina Victory Shag Beige Yarn Shimmer Shag Throw Pillow', 'Go to Product: Cool-Tech Black Advanced Medium Profile Pillow', 'Go to Product: I Love Pillow Cumulus Queen Pillow 2-Pack', 'Go to Product: Calisa Pillow', 'Go to Product: Coachella Throw Pillow', 'Go to Product: Modern Faux Angora Rabbit Fur Pillow', 'Go to Product: J. Queen New York Crestview Neckroll Pillow', 'Go to Product: Coachella Throw Pillow', 'Go to Product: Charisma® Gel-Infused Memory Foam Cluster and Gel Fiber Standard Bed Pillow 2-Pack', 'Go to Product: Mr. Kate Neely Futon with Bolster Pillows', 'Go to Product: iKidz Blue Mattress and Pillow', 'Go to Product: Edelia Chenille Lounge Floor Pillow', 'Go to Product: iKidz Pink Mattress and Pillow']\n",
            "['29.99', '29.99', '28.99', '33.99', '49.99', '39.99', '38.99', '31.99', '49.99', '119.0', '49.99', '28.99', '60.99', '25.99', '27.99', '32.99', '41.99', '39.99', '45.99', '46.99', '49.99', '39.99', '179.0', '43.99', '29.99', '69.99', '38.99', '41.99', '69.99', '49.99', '24.99', '375.0', '22.99', '52.99', '47.99', '28.99', '179.9', '36.99', '49.99', '69.99', '29.99', '57.99', '69.99', '57.99', '499.9', '199.9', '65.99', '199.9']\n"
          ]
        }
      ]
    },
    {
      "cell_type": "code",
      "source": [
        "#creating a dataframe from the lists\n",
        "print(len(width_list))\n",
        "print(len(link_list))\n",
        "print(len(height_list))\n",
        "print(len(weight_list))\n",
        "print(len(price_list))\n",
        "#creating a df for getting all the link in a list \n",
        "Pillow_df = pd.DataFrame({'Product Name':name_list[0:153],'Price  USD':price_list[0:153],'Weight lbs':weight_list[0:153],'Width inches':width_list[0:153],'Depth inches':depth_list[0:153],'Height inches':height_list[0:153]})\n",
        "print(Pillow_df)"
      ],
      "metadata": {
        "id": "2narQD1cRn39"
      },
      "execution_count": null,
      "outputs": []
    },
    {
      "cell_type": "code",
      "source": [
        "#sending the df off to google sheets\n",
        "#will require authentication\n",
        "\n",
        "from google.colab import auth\n",
        "auth.authenticate_user()\n",
        "import gspread\n",
        "from oauth2client.client import GoogleCredentials as GC\n",
        "gc = gspread.authorize(GC.get_application_default())\n",
        "\n",
        "# create, and save df\n",
        "from gspread_dataframe import set_with_dataframe\n",
        "title = 'Pillow_Links_Ashley'\n",
        "gc.create(title)  # if not exist\n",
        "sheet = gc.open(title).sheet1\n",
        "set_with_dataframe(sheet,Pillow_df) \n",
        "# include_index=False, include_column_header=True, resize=False"
      ],
      "metadata": {
        "id": "bOA8Ktd4Ru3H"
      },
      "execution_count": null,
      "outputs": []
    }
  ]
}